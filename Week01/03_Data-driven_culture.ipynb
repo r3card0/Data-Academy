{
 "cells": [
  {
   "cell_type": "markdown",
   "metadata": {},
   "source": [
    "# Cultura de data-driven"
   ]
  },
  {
   "cell_type": "markdown",
   "metadata": {},
   "source": [
    "## que se necesita y en que consiste\n",
    "### Componentes\n",
    "\n",
    "Los componentes (pasos a seguir) para crear una cultura de data-driven en las empresas son: \n",
    "\n",
    "1. Crear una cultura de datos.\n",
    "2. Recolectar información.\n",
    "3. Medir todo.\n",
    "4. Datos relevantes y precisos.\n",
    "5. Testear y crear hipótesis.\n",
    "6. Desde los insights de datos a las acciones.\n",
    "7. Cumplir con las regulaciones de datos.\n",
    "8. Automatizar"
   ]
  },
  {
   "cell_type": "markdown",
   "metadata": {},
   "source": []
  }
 ],
 "metadata": {
  "interpreter": {
   "hash": "727dab8a2a6b4db692afefb0e5f20fb4ec529ac073cd2b7eb835239ef9eceed5"
  },
  "kernelspec": {
   "display_name": "Python 3.10.0 64-bit ('venv_da': venv)",
   "language": "python",
   "name": "python3"
  },
  "language_info": {
   "name": "python",
   "version": "3.10.0"
  },
  "orig_nbformat": 4
 },
 "nbformat": 4,
 "nbformat_minor": 2
}
