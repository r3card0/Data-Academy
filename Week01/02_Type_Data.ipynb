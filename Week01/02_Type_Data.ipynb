{
 "cells": [
  {
   "cell_type": "markdown",
   "metadata": {},
   "source": [
    "# Tipo de información que puede ser analizada\n",
    "\n",
    "## Personas\n",
    "- Edad, género\n",
    "- Preferencias de productos y marcas"
   ]
  },
  {
   "cell_type": "markdown",
   "metadata": {},
   "source": [
    "## Transacciones\n",
    "\n",
    "- Monetarias\n",
    "- No monetarias\n",
    "\n",
    "Monetarias\n",
    "- Uso de tarjeta de credito\n",
    "- Compras\n",
    "\n",
    "No monetarias\n",
    "- Compañias telefónicas"
   ]
  },
  {
   "cell_type": "markdown",
   "metadata": {},
   "source": [
    "## Navegación web\n",
    "\n",
    "- Cookies en pagina web"
   ]
  },
  {
   "cell_type": "markdown",
   "metadata": {},
   "source": [
    "## Machine 2 machine\n",
    "\n",
    "- Conexión entre máquinas\n",
    "- GPS\n",
    "- Google maps"
   ]
  },
  {
   "cell_type": "markdown",
   "metadata": {},
   "source": [
    "## Biométricos\n",
    "\n",
    "- Datos que identifican a un ser único.\n",
    "- Que genes identifican a una persona: Sangre, saliva, huella.\n",
    "- Debate ético."
   ]
  }
 ],
 "metadata": {
  "interpreter": {
   "hash": "727dab8a2a6b4db692afefb0e5f20fb4ec529ac073cd2b7eb835239ef9eceed5"
  },
  "kernelspec": {
   "display_name": "Python 3.10.0 64-bit ('venv_da': venv)",
   "language": "python",
   "name": "python3"
  },
  "language_info": {
   "name": "python",
   "version": "3.10.0"
  },
  "orig_nbformat": 4
 },
 "nbformat": 4,
 "nbformat_minor": 2
}
