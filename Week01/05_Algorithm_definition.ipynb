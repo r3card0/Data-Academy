{
 "cells": [
  {
   "cell_type": "markdown",
   "metadata": {},
   "source": [
    "# Hola"
   ]
  },
  {
   "cell_type": "markdown",
   "metadata": {},
   "source": [
    "## Porqué estudiar Python\n",
    "\n",
    "- Es fácil de aprender\n",
    "- Lenguaje creado con similitudes del lenguaje común humano\n",
    "- Cercano al idioma inglés\n",
    "- Es bien pagado en la industria\n",
    "- Aplicado en: Machine Learning, Data Science, Backend y IoT"
   ]
  },
  {
   "cell_type": "markdown",
   "metadata": {},
   "source": [
    "## Definición de algoritmo\n",
    "\n",
    "- Serie de pasos ordenados para resolver un problema\n",
    "- Es finito\n",
    "- Es concreto: no es ambiguo"
   ]
  }
 ],
 "metadata": {
  "interpreter": {
   "hash": "727dab8a2a6b4db692afefb0e5f20fb4ec529ac073cd2b7eb835239ef9eceed5"
  },
  "kernelspec": {
   "display_name": "Python 3.10.0 64-bit ('venv_da': venv)",
   "language": "python",
   "name": "python3"
  },
  "language_info": {
   "name": "python",
   "version": "3.10.0"
  },
  "orig_nbformat": 4
 },
 "nbformat": 4,
 "nbformat_minor": 2
}
