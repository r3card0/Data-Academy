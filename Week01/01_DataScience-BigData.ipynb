{
 "cells": [
  {
   "cell_type": "markdown",
   "metadata": {},
   "source": [
    "# Titulo"
   ]
  },
  {
   "cell_type": "markdown",
   "metadata": {},
   "source": [
    "## Big Data\n",
    "\n",
    "Se refiere a un gran volumen de información mayor a la que Excel puede manejar.\n",
    "\n",
    "### Recuerda que:\n",
    "\n",
    "- Las empresas **almacenan** datos diariamente.\n",
    "- **Costos, eficiencia, entender** a los clientes.\n",
    "\n",
    "De la necesidad de las empresas de almacenar y usar su información para la toma de decisiones, se creo la especialización de Big Data, para crear información en acciones.\n",
    "\n",
    "Existe información numérica  y de categorías (texto). \n",
    "\n",
    "### Un Big Data Specialist trabaja para proponer una solución matemática o estadística a un problema de negocio."
   ]
  }
 ],
 "metadata": {
  "interpreter": {
   "hash": "727dab8a2a6b4db692afefb0e5f20fb4ec529ac073cd2b7eb835239ef9eceed5"
  },
  "kernelspec": {
   "display_name": "Python 3.10.0 64-bit ('venv_da': venv)",
   "language": "python",
   "name": "python3"
  },
  "language_info": {
   "name": "python",
   "version": "3.10.0"
  },
  "orig_nbformat": 4
 },
 "nbformat": 4,
 "nbformat_minor": 2
}
