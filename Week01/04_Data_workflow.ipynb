{
 "cells": [
  {
   "cell_type": "markdown",
   "metadata": {},
   "source": [
    "# Data Workflow\n",
    "\n",
    "A través de los roles, podemos ver el flujo de los datos, desde su origen, pasando por la arquitectura, analizis, modelos de predicción, para que la empresa realice decisiones en base a la informacion recolectada y analizada."
   ]
  },
  {
   "cell_type": "markdown",
   "metadata": {},
   "source": [
    "## Roles en datos\n",
    "![Roles](/Users/ideasleon/platzi_edu/DataAcademy/Doc/images/roles.png)"
   ]
  },
  {
   "cell_type": "markdown",
   "metadata": {},
   "source": [
    "### Data Engineer\n",
    "\n",
    "- Construye la arquitectura para almacenar la información\n",
    "- Construye la conexión entre las fuentes de información a las bases de datos: SQL y NoSQL\n",
    "- Es el origen de los datos\n",
    "- Almacena las información de una empresa en su máximo potencial"
   ]
  },
  {
   "cell_type": "markdown",
   "metadata": {},
   "source": [
    "### Data Analyst\n",
    "\n",
    "- Explica el presente\n",
    "- Analiza la información a partir de las aquitectura creada por el Data Engineer\n",
    "- Crea cuadros de control, dashboards, monitoreo"
   ]
  },
  {
   "cell_type": "markdown",
   "metadata": {},
   "source": [
    "### Data Science\n",
    "\n",
    "- Predice el futuro\n",
    "- Conocimiento en matemáticas"
   ]
  },
  {
   "cell_type": "markdown",
   "metadata": {},
   "source": [
    "### Data Trasnlator\n",
    "\n",
    "- Coordina al data team"
   ]
  }
 ],
 "metadata": {
  "interpreter": {
   "hash": "727dab8a2a6b4db692afefb0e5f20fb4ec529ac073cd2b7eb835239ef9eceed5"
  },
  "kernelspec": {
   "display_name": "Python 3.10.0 64-bit ('venv_da': venv)",
   "language": "python",
   "name": "python3"
  },
  "language_info": {
   "name": "python",
   "version": "3.10.0"
  },
  "orig_nbformat": 4
 },
 "nbformat": 4,
 "nbformat_minor": 2
}
