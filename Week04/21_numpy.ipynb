{
 "cells": [
  {
   "cell_type": "markdown",
   "metadata": {},
   "source": [
    "# ¿Qué es Numpy?\n",
    "\n",
    "NumPy o Numerical Python es una librería para manejo de números de Python.\n",
    "\n",
    "Su principal uso es el manejar estructuras de datos matriciales y funciones matemáticas de alto nivel.\n",
    "\n",
    "Es muy utilizada en data science y en el mundo científico y matemático.\n",
    "\n",
    "## ¿Por qué usar NumPy?\n",
    "\n",
    "Una de sus ventajas es que tiene una estructura de datos que permite representar información compleja como archivos de imágenes, videos, sonidos, etc. NumPy permite trabajar con estos datos de forma númerica para que puedan ser analizados y usados en algoritmos de machine learning.\n",
    "\n",
    "NumPy también utiliza estructuras de datos como sus arrays que ocupan menor espacio que una lista común en Python. Esto ayuda a que sean más rápidas de procesar y que podamos utilizar cantidades de datos más grandes.\n",
    "\n",
    "\n",
    "## Comenzar a usar NumPy\n",
    "Para empezar a utilizar NumPy dentro de Jupyter Notebooks en la nube, como Google Colab o Deepnote, no necesitas hacer ninguna instalación. Simplemente escribe la siguiente línea en una celda de código y ejecútala."
   ]
  },
  {
   "cell_type": "code",
   "execution_count": 2,
   "metadata": {},
   "outputs": [],
   "source": [
    "import numpy as np"
   ]
  },
  {
   "cell_type": "markdown",
   "metadata": {},
   "source": [
    "ó Si si vas a trabajar en local, puedes instalarla desde la consola en tu máquina directamente o en un ambiente virtual de la siguiente manera:\n",
    "\n",
    "````\n",
    "pip install numpy\n",
    "````\n"
   ]
  },
  {
   "cell_type": "markdown",
   "metadata": {},
   "source": [
    "## Arrays de Numpy\n",
    "Como vimos arriba, en NumPy usamos una estructura de datos llamada array. Estos son arreglos numéricos parecidos a listas en Python. De hecho tienen propiedas muy parecidas como ser mutables y poder hacer slicing.\n",
    "\n",
    "Los arrays son n-dimensionales. Esto quiere decir que pueden ser de muchas dimensiones dependiendo si tienen varias filas y columnas.\n",
    "\n",
    "* Un array unidimensional es una sola columna o fila de alguna tabla, justo como una lista de Python\n",
    "* Un array bidimensional es lo que conocemos como matriz y es la forma en la que podemos representar tablas de datos en NumPy.\n",
    "* Un array de tres dimensiones o más es una matriz de matrices, mejor conocida como tensor.\n",
    "\n",
    "* Una característica muy importante de cualquier array es que solo puede tener datos de un mismo tipo.\n",
    "\n",
    "Es decir que si tiene números enteros, todos sus elementos deben ser enteros. Si son números flotantes todos deberán ser flotantes.\n",
    "\n",
    "Para crear un array con NumPy utilizamos el método np.array(tu_lista).\n",
    "\n",
    "Nota: dentro de los paréntesis puede ir más de una lista para así crear arrays de dos o más dimensiones."
   ]
  },
  {
   "cell_type": "code",
   "execution_count": null,
   "metadata": {},
   "outputs": [],
   "source": [
    "# ejemplo de vector\n",
    "vector = np.array([1, 2, 4, 8, 16])\n",
    "\n",
    "\n",
    "# ejemplo de matriz\n",
    "matrix = np.array([[5, 10], [15, 30]])\n",
    "\n",
    "\n",
    "# print(vector)\n",
    "print(matrix)\n"
   ]
  },
  {
   "cell_type": "markdown",
   "metadata": {},
   "source": [
    "Dentro del método np.array() también pueden ir variables que contengan las listas con las que crearemos los arrays."
   ]
  },
  {
   "cell_type": "code",
   "execution_count": null,
   "metadata": {},
   "outputs": [],
   "source": [
    "lista_1 = (100, 200, 300, 400)\n",
    "lista_2 = (3, 4, 5, 6)\n",
    "\n",
    "vector_2 = np.array(lista_1)\n",
    "\n",
    "\n",
    "\n",
    "matrix_2 = np.array([lista_1, lista_2])\n",
    "\n",
    "print(\"Vector\")\n",
    "print(vector_2)\n",
    "print(\"\\n\")\n",
    "print(\"Matriz:\")\n",
    "print(matrix_2)\n"
   ]
  },
  {
   "cell_type": "markdown",
   "metadata": {},
   "source": [
    "Por último, utilicemos el método type() de Python sobre nuestros arrays para ver que efectivamente son un array de NumPy."
   ]
  },
  {
   "cell_type": "code",
   "execution_count": null,
   "metadata": {},
   "outputs": [],
   "source": [
    "type(vector)\n",
    "# >>> numpy.ndarray"
   ]
  },
  {
   "cell_type": "markdown",
   "metadata": {},
   "source": [
    "Reto: practica crear nuevos arrays\n",
    "Dentro de la notebook en la que estás trabajando crea dos nuevos vectores y dos nuevas matrices.\n",
    "\n",
    "Puedes utilizar variables o listas directamente en ellas.\n",
    "\n",
    "## Tamaño de los arrays\n",
    "\n",
    "Dentro de NumPy también existen funciones que nos sirven para conocer las dimensiones de un array y su tipo de datos.\n",
    "\n",
    "## .shape\n",
    ".shape nos da las dimensiones del array."
   ]
  },
  {
   "cell_type": "code",
   "execution_count": null,
   "metadata": {},
   "outputs": [],
   "source": [
    "# print(vector)\n",
    "# vector.shape\n",
    "\n",
    "# print(matrix)\n",
    "# matrix.shape\n",
    "\n",
    "print(matrix_2)\n",
    "matrix_2.shape\n"
   ]
  },
  {
   "cell_type": "markdown",
   "metadata": {},
   "source": [
    "* Para vectores el único valor es la cantidad de elementos en él.\n",
    "* Para matrices el primer valor son las filas y el segundo las columnas.\n",
    "* Para un tensor el primer valor es la “profundidad”, el segundo las filas y el tercero las columnas.\n",
    "\n",
    "## .dtype\n",
    ".dtype devuelve el tipo de datos que hay en un array."
   ]
  },
  {
   "cell_type": "code",
   "execution_count": null,
   "metadata": {},
   "outputs": [],
   "source": [
    "# print(vector)\n",
    "# vector.dtype\n",
    "\n",
    "\n",
    "# print(matrix)\n",
    "# matrix.dtype\n",
    "\n",
    "\n",
    "vector_4 = np.array([1.4, 5.6, 6.8])\n",
    "vector_4.dtype\n"
   ]
  },
  {
   "cell_type": "markdown",
   "metadata": {},
   "source": [
    "### Reto: conoce la forma de tus arrays\n",
    "Nuevamente crea nuevos vectores y matrices dentro de tu notebook.\n",
    "\n",
    "Utiliza los métodos .shape para conocer su forma y .dtype conocer su tipo de dato.\n",
    "\n",
    "Comparte tus resultados en los comentarios de la clase."
   ]
  },
  {
   "cell_type": "markdown",
   "metadata": {},
   "source": [
    "## Referencias\n",
    "\n",
    "[Guía definitiva para dominar NumPy](https://platzi.com/blog/numpy/)"
   ]
  }
 ],
 "metadata": {
  "interpreter": {
   "hash": "727dab8a2a6b4db692afefb0e5f20fb4ec529ac073cd2b7eb835239ef9eceed5"
  },
  "kernelspec": {
   "display_name": "Python 3.10.0 ('venv_da': venv)",
   "language": "python",
   "name": "python3"
  },
  "language_info": {
   "codemirror_mode": {
    "name": "ipython",
    "version": 3
   },
   "file_extension": ".py",
   "mimetype": "text/x-python",
   "name": "python",
   "nbconvert_exporter": "python",
   "pygments_lexer": "ipython3",
   "version": "3.10.0"
  },
  "orig_nbformat": 4
 },
 "nbformat": 4,
 "nbformat_minor": 2
}
