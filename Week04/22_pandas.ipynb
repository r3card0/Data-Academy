{
 "cells": [
  {
   "cell_type": "markdown",
   "metadata": {},
   "source": [
    "# ¿Qué es Pandas?\n",
    "Pandas es una librería de Python que se usa para manipular datos de alto nivel. Está construida sobre NumPy.\n",
    "\n",
    "Principalmente funciona con una estructura de datos que guarda la información de manera tabular llamada DataFrame. Esencialmente esto es una tabla como las que veríamos en bases de datos SQL o archivos de Excel."
   ]
  },
  {
   "cell_type": "markdown",
   "metadata": {},
   "source": [
    "## ¿Por qué usar Pandas?\n",
    "Para analizar datos es muy común tener que trabajar con ellos en forma tabular y con Pandas podemos hacerlo.\n",
    "\n",
    "Una diferencia que tiene Pandas a trabajar con hojas de cálculo en Excel es que es mucho más rápida y potente, podemos trabajar con cantidades de datos más grandes."
   ]
  },
  {
   "cell_type": "markdown",
   "metadata": {},
   "source": [
    "## Comenzar a usar Pandas\n",
    "Para empezar a utilizar Pandas dentro de Jupyter Notebooks en la nube, como Google Colab o Deepnote, no necesitas hacer ninguna instalación. Simplemente escribe la siguiente línea en una celda de código y ejecútala."
   ]
  },
  {
   "cell_type": "code",
   "execution_count": 2,
   "metadata": {},
   "outputs": [],
   "source": [
    "import pandas as pd"
   ]
  },
  {
   "cell_type": "markdown",
   "metadata": {},
   "source": [
    "## DataFrames y Series\n",
    "Pandas trabaja con DataFrames que son la estructura de datos principal con la que almacena y manipula datos tabulados.\n",
    "\n",
    "Cada fila dentro de un DataFrame lleva un índice que indica su posición."
   ]
  },
  {
   "cell_type": "markdown",
   "metadata": {},
   "source": [
    "![Dataframe](/Users/ideasleon/platzi_edu/DataAcademy/Doc/images/dataframe.webp)"
   ]
  },
  {
   "cell_type": "markdown",
   "metadata": {},
   "source": [
    "Otras estructuras de datos comunes en Pandas son las Series. Son de una sola dimensión como una lista de Python o un NumPy array. Esencialmente son una columna de datos y un índice que indica su posición."
   ]
  },
  {
   "cell_type": "markdown",
   "metadata": {},
   "source": [
    "![Series](/Users/ideasleon/platzi_edu/DataAcademy/Doc/images/series.webp)"
   ]
  },
  {
   "cell_type": "markdown",
   "metadata": {},
   "source": [
    "## Crear un DataFrame\n",
    "Existen diferentes maneras de crear DataFrames. Veamos algunas.\n",
    "\n",
    "### Diccionario de listas"
   ]
  },
  {
   "cell_type": "code",
   "execution_count": 2,
   "metadata": {},
   "outputs": [
    {
     "data": {
      "text/html": [
       "<div>\n",
       "<style scoped>\n",
       "    .dataframe tbody tr th:only-of-type {\n",
       "        vertical-align: middle;\n",
       "    }\n",
       "\n",
       "    .dataframe tbody tr th {\n",
       "        vertical-align: top;\n",
       "    }\n",
       "\n",
       "    .dataframe thead th {\n",
       "        text-align: right;\n",
       "    }\n",
       "</style>\n",
       "<table border=\"1\" class=\"dataframe\">\n",
       "  <thead>\n",
       "    <tr style=\"text-align: right;\">\n",
       "      <th></th>\n",
       "      <th>name</th>\n",
       "      <th>age</th>\n",
       "      <th>career path</th>\n",
       "    </tr>\n",
       "  </thead>\n",
       "  <tbody>\n",
       "    <tr>\n",
       "      <th>0</th>\n",
       "      <td>Miguel</td>\n",
       "      <td>29</td>\n",
       "      <td>Data Analyst</td>\n",
       "    </tr>\n",
       "    <tr>\n",
       "      <th>1</th>\n",
       "      <td>Juan David</td>\n",
       "      <td>19</td>\n",
       "      <td>Data Scientist</td>\n",
       "    </tr>\n",
       "    <tr>\n",
       "      <th>2</th>\n",
       "      <td>Carmen</td>\n",
       "      <td>24</td>\n",
       "      <td>Data Analyst</td>\n",
       "    </tr>\n",
       "    <tr>\n",
       "      <th>3</th>\n",
       "      <td>Facundo</td>\n",
       "      <td>22</td>\n",
       "      <td>Data Engineer</td>\n",
       "    </tr>\n",
       "    <tr>\n",
       "      <th>4</th>\n",
       "      <td>Romina</td>\n",
       "      <td>25</td>\n",
       "      <td>ML Engineer</td>\n",
       "    </tr>\n",
       "  </tbody>\n",
       "</table>\n",
       "</div>"
      ],
      "text/plain": [
       "         name  age     career path\n",
       "0      Miguel   29    Data Analyst\n",
       "1  Juan David   19  Data Scientist\n",
       "2      Carmen   24    Data Analyst\n",
       "3     Facundo   22   Data Engineer\n",
       "4      Romina   25     ML Engineer"
      ]
     },
     "execution_count": 2,
     "metadata": {},
     "output_type": "execute_result"
    }
   ],
   "source": [
    "students_dict = {\n",
    "    \"name\": [\"Miguel\", \"Juan David\", \"Carmen\", \"Facundo\", \"Romina\"],\n",
    "    \"age\": [29, 19, 24, 22, 25],\n",
    "    \"career path\":  [\"Data Analyst\", \"Data Scientist\", \"Data Analyst\", \"Data Engineer\", \"ML Engineer\" ],\n",
    "}\n",
    "\n",
    "students_df = pd.DataFrame(students_dict)\n",
    "students_df"
   ]
  },
  {
   "cell_type": "markdown",
   "metadata": {},
   "source": [
    "Esto nos creará este DataFrame."
   ]
  },
  {
   "cell_type": "markdown",
   "metadata": {},
   "source": [
    "### Lista de diccionarios (fila por fila)"
   ]
  },
  {
   "cell_type": "code",
   "execution_count": 3,
   "metadata": {},
   "outputs": [
    {
     "data": {
      "text/html": [
       "<div>\n",
       "<style scoped>\n",
       "    .dataframe tbody tr th:only-of-type {\n",
       "        vertical-align: middle;\n",
       "    }\n",
       "\n",
       "    .dataframe tbody tr th {\n",
       "        vertical-align: top;\n",
       "    }\n",
       "\n",
       "    .dataframe thead th {\n",
       "        text-align: right;\n",
       "    }\n",
       "</style>\n",
       "<table border=\"1\" class=\"dataframe\">\n",
       "  <thead>\n",
       "    <tr style=\"text-align: right;\">\n",
       "      <th></th>\n",
       "      <th>name</th>\n",
       "      <th>age</th>\n",
       "      <th>career path</th>\n",
       "    </tr>\n",
       "  </thead>\n",
       "  <tbody>\n",
       "    <tr>\n",
       "      <th>0</th>\n",
       "      <td>Miguel</td>\n",
       "      <td>29</td>\n",
       "      <td>Data Analyst</td>\n",
       "    </tr>\n",
       "    <tr>\n",
       "      <th>1</th>\n",
       "      <td>Juan David</td>\n",
       "      <td>19</td>\n",
       "      <td>Data Scientist</td>\n",
       "    </tr>\n",
       "    <tr>\n",
       "      <th>2</th>\n",
       "      <td>Carmen</td>\n",
       "      <td>24</td>\n",
       "      <td>Data Analyst</td>\n",
       "    </tr>\n",
       "  </tbody>\n",
       "</table>\n",
       "</div>"
      ],
      "text/plain": [
       "         name  age     career path\n",
       "0      Miguel   29    Data Analyst\n",
       "1  Juan David   19  Data Scientist\n",
       "2      Carmen   24    Data Analyst"
      ]
     },
     "execution_count": 3,
     "metadata": {},
     "output_type": "execute_result"
    }
   ],
   "source": [
    "# Esto nos creará este segundo DataFrame.\n",
    "students_list = [\n",
    "    {\"name\": \"Miguel\", \"age\": 29, \"career path\": \"Data Analyst\"},\n",
    "    {\"name\": \"Juan David\", \"age\": 19, \"career path\": \"Data Scientist\"},\n",
    "    {\"name\": \"Carmen\", \"age\": 24, \"career path\": \"Data Analyst\"},\n",
    "]\n",
    "\n",
    "students_df_2 = pd.DataFrame(students_list)\n",
    "students_df_2"
   ]
  },
  {
   "cell_type": "markdown",
   "metadata": {},
   "source": [
    "Utilizando el método .dtype podemos conocer cuál es el tipo de dato que hay dentro de cada columna del DataFrame.\n",
    "\n",
    "Utiliza ese método en cada uno de los DataFrames que creamos."
   ]
  },
  {
   "cell_type": "code",
   "execution_count": null,
   "metadata": {},
   "outputs": [],
   "source": [
    "students_df.dtypes"
   ]
  },
  {
   "cell_type": "code",
   "execution_count": null,
   "metadata": {},
   "outputs": [],
   "source": [
    "students_df_2.dtypes"
   ]
  },
  {
   "cell_type": "markdown",
   "metadata": {},
   "source": [
    "### Reto: crea nuevos DataFrames\n",
    "Crea otro diccionario con listas y con él crea un nuevo DataFrame. Utiliza los datos que quieras.\n",
    "\n",
    "También crea otra lista con diccionarios y crea otro nuevo DataFrame con los mismos datos que tenías en tu diccionario.\n",
    "\n",
    "Comparte tus resultados en los comentarios."
   ]
  },
  {
   "cell_type": "code",
   "execution_count": null,
   "metadata": {},
   "outputs": [],
   "source": [
    "# diccionario de listas\n",
    "well_offset = {\n",
    "    \"well_name\": [\"ENCANTADA-500\",\"ENCANTADA-501\",\"PALMIRO-1\",\"JUILE-1\"],\n",
    "    \"depth_md\" : [2908,1882,2504,553],\n",
    "    \"status\" : [\"closed\",\"abandoned\",\"abandoned\",\"closed\"]\n",
    "}\n",
    "\n",
    "well_offset_df = pd.DataFrame(well_offset)\n",
    "well_offset_df\n"
   ]
  },
  {
   "cell_type": "code",
   "execution_count": 4,
   "metadata": {},
   "outputs": [
    {
     "data": {
      "text/plain": [
       "well_name    object\n",
       "depth_md      int64\n",
       "status       object\n",
       "dtype: object"
      ]
     },
     "execution_count": 4,
     "metadata": {},
     "output_type": "execute_result"
    }
   ],
   "source": [
    "well_offset_df.dtypes"
   ]
  },
  {
   "cell_type": "code",
   "execution_count": null,
   "metadata": {},
   "outputs": [],
   "source": [
    "# listas de diccionarios\n",
    "\n",
    "well_tops = [\n",
    "    {\"well_name\":\"well-1\", \"well_top\":\"JKS\", \"md\":2308},\n",
    "    {\"well_name\":\"well-2\", \"well_top\":\"JKS\", \"md\":2101},\n",
    "    {\"well_name\":\"well-3\", \"well_top\":\"KM\", \"md\":1708}\n",
    "]\n",
    "\n",
    "well_tops_df = pd.DataFrame(well_tops)\n",
    "well_tops_df"
   ]
  }
 ],
 "metadata": {
  "interpreter": {
   "hash": "727dab8a2a6b4db692afefb0e5f20fb4ec529ac073cd2b7eb835239ef9eceed5"
  },
  "kernelspec": {
   "display_name": "Python 3.10.0 ('venv_da': venv)",
   "language": "python",
   "name": "python3"
  },
  "language_info": {
   "codemirror_mode": {
    "name": "ipython",
    "version": 3
   },
   "file_extension": ".py",
   "mimetype": "text/x-python",
   "name": "python",
   "nbconvert_exporter": "python",
   "pygments_lexer": "ipython3",
   "version": "3.10.0"
  },
  "orig_nbformat": 4
 },
 "nbformat": 4,
 "nbformat_minor": 2
}
