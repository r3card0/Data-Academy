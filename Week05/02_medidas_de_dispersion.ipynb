{
 "cells": [
  {
   "cell_type": "markdown",
   "metadata": {},
   "source": [
    "# Medidas de Dispersión"
   ]
  },
  {
   "cell_type": "markdown",
   "metadata": {},
   "source": [
    "Para conocer los límites de un set de datos, solo hay que ubicar el valor mínimo y el valor máximo de un conjunto de datos."
   ]
  },
  {
   "cell_type": "markdown",
   "metadata": {},
   "source": [
    "Las medidas de dispersión son las que permiten conocer los . . . y se usan para  . . . "
   ]
  },
  {
   "cell_type": "markdown",
   "metadata": {},
   "source": [
    "## Calcular los valores mínimo y máximo de un conjunto de datos "
   ]
  },
  {
   "cell_type": "code",
   "execution_count": 28,
   "metadata": {},
   "outputs": [
    {
     "name": "stdout",
     "output_type": "stream",
     "text": [
      "El valor máximo de la lista es: 351\n",
      "El valor mínimo de la lista es: 4\n",
      "El rango de la lista es: 347\n"
     ]
    }
   ],
   "source": [
    "grupo_1 = [65,100,54,112,351,4,56]\n",
    "# print(len(grupo_1))\n",
    "grupo_1.sort(key=lambda r : 100/r)\n",
    "maximo = grupo_1[0]\n",
    "minimo = grupo_1[(len(grupo_1)-1)]\n",
    "print(\"El valor máximo de la lista es: \" + str(maximo))\n",
    "print(\"El valor mínimo de la lista es: \" + str(minimo))\n",
    "rango_grupo_1 = maximo - minimo\n",
    "print(\"El rango de la lista es: \" + str(rango_grupo_1))\n",
    "# range_grupo_1 = grupo_1.sort(reverse=False) -\n",
    "# print(rango_grupo_1)"
   ]
  }
 ],
 "metadata": {
  "interpreter": {
   "hash": "727dab8a2a6b4db692afefb0e5f20fb4ec529ac073cd2b7eb835239ef9eceed5"
  },
  "kernelspec": {
   "display_name": "Python 3.10.0 ('venv_da': venv)",
   "language": "python",
   "name": "python3"
  },
  "language_info": {
   "codemirror_mode": {
    "name": "ipython",
    "version": 3
   },
   "file_extension": ".py",
   "mimetype": "text/x-python",
   "name": "python",
   "nbconvert_exporter": "python",
   "pygments_lexer": "ipython3",
   "version": "3.10.0"
  },
  "orig_nbformat": 4
 },
 "nbformat": 4,
 "nbformat_minor": 2
}
