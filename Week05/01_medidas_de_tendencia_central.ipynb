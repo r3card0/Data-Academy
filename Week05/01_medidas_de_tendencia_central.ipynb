{
 "cells": [
  {
   "cell_type": "markdown",
   "metadata": {},
   "source": [
    "# Medidas de Tendencia Central"
   ]
  },
  {
   "cell_type": "markdown",
   "metadata": {},
   "source": [
    "Un conjunto de datos puede contar una historia oculta. Como un libro que empieza a contarnos un relato desde el título, un conjunto de datos comienza a contar la historia a partir del centro del conjunto de datos. Porque en el centro se encuentran los valores más representativos que le dan forma a la historia oculta."
   ]
  },
  {
   "cell_type": "markdown",
   "metadata": {},
   "source": [
    "Las medidas de tendencia central son herramientas que permiten determinar y conocer el centro de datos de un conjunto de datos y ayudan a conocer la historia oculta dentro de un set de datos. Las herramientas de tendencia central son el promedio (o la media), la mediana y la moda\n",
    "\n",
    "- Promedio\n",
    "- Mediana\n",
    "- Moda"
   ]
  },
  {
   "cell_type": "markdown",
   "metadata": {},
   "source": [
    "## Media\n",
    "\n",
    "Es el promedio de un conjunto de datos.\n",
    "\n",
    "Se calcula sumando todos los valores de un conjunto de datos y el resultado se divide entre la cantidad total del conjunto de datos.\n",
    "\n",
    "(sumatoria de todos los valores)/ cantidad de datos \n",
    "\n",
    "$ n $ es igual a la cantidad de datos de un conjunto\n",
    "\n",
    "$ ∑n/n $\n",
    "\n",
    "¿Que nos dice la Media o el Promedio? Nos dice la tendencia que tienen los valores. Por ejemplo, en un conjunto de datos donde se encuentran las calificaciones semestrales de matemáticas de un grupo de estudiantes de universidad, donde su promedio es 75. Este valor puede indicar que la habilidad sobresaliente de los estudiantes de matemáticas es 75. Sin embargo, por si solo, el promedio puede hacer que intepretemos mal la habilidad de los estudiantes, porque el promedio es afectado por la cantidad de calificaciones y por las calificaciones mismas.\n",
    "\n",
    "Caso 1. En el grupo 1 hay 3 estudiantes y cada uno tuvo la calificación de 75. Su promedio es 75.\n",
    "\n",
    "Caso 2. En el grupo 2, hay 3 estudiantes, dos estudiantes con 54 y 65 de calificación respectivamente y un estudiante con calificación de 100. El promedio de este grupo es de 73. Como se ve, solo un estudiante está por encima del valor de 73 y dos de ellos están por debajo de 73. Aqui la historia nos dice que solo un estudiante tiene habilidades mayores a 73, pero no es el valor que representaría a todos los estudiantes, como si lo hace el Caso 1.\n",
    "\n",
    "Con estos ejemplos, se puede entender que el promedio o la media, es el valor que ayuda  a comenzar a construir la historia oculta en el set de datos, pero no es la historia completa. "
   ]
  },
  {
   "cell_type": "code",
   "execution_count": 66,
   "metadata": {},
   "outputs": [
    {
     "name": "stdout",
     "output_type": "stream",
     "text": [
      "El promedio del grupo 1 es: 75.0\n",
      "El promedio del grupo 2 es: 73.0\n"
     ]
    }
   ],
   "source": [
    "from functools import reduce\n",
    "\n",
    "grupo_1 = [75,75,75]\n",
    "grupo_2 = [65,100,54]\n",
    "sum_grupo_1 = reduce(lambda r,e : r + e, grupo_1 )\n",
    "promedio_1 = sum_grupo_1 / len(grupo_1)\n",
    "promedio_2 = (reduce(lambda r,e : r + e, grupo_2 )) / len(grupo_2)\n",
    "print(\"El promedio del grupo 1 es: \" + str(promedio_1))\n",
    "print(\"El promedio del grupo 2 es: \" + str(promedio_2))"
   ]
  },
  {
   "cell_type": "markdown",
   "metadata": {},
   "source": [
    "## Mediana\n",
    "\n",
    "Es el valor medio de un conjunto de datos.\n",
    "\n",
    "Para calcular la mediana de un conjunto de datos, primero se ordenan los datos de menor a mayor o viceversa.\n",
    "\n",
    "$ n $ es igual a la cantidad de datos de un conjunto\n",
    "\n",
    "$ (n+1)/2 $\n",
    "\n",
    "La fórmula determina la posición donde se encuentra el valor medio de un set de datos que está previamente ordenado."
   ]
  },
  {
   "cell_type": "code",
   "execution_count": 62,
   "metadata": {},
   "outputs": [
    {
     "name": "stdout",
     "output_type": "stream",
     "text": [
      "Orden original: [65, 100, 54]\n",
      "Lista ordenada: [54, 65, 100]\n",
      "El valor de la mediana en el Caso 2 es: 65\n"
     ]
    }
   ],
   "source": [
    "# calificaciones caso 2\n",
    "grupo_2 = [65,100,54]\n",
    "print(\"Orden original: \" + str(grupo_2))\n",
    "\n",
    "# 1. ordenar los datos de mayor a menor usando el método sort()\n",
    "# grupo_2.sort(key = lambda r: 100/r )\n",
    "grupo_2.sort()\n",
    "print(\"Lista ordenada: \" + str(grupo_2))\n",
    "\n",
    "# 2. aplicando la  fórmula para calcular la mediana -> n+1/2\n",
    "mediana = ((len(grupo_2) + 1) // 2) - 1\n",
    "# print(mediana)\n",
    "# print(grupo_2[mediana])\n",
    "\n",
    "# 3. imprime el valor de la posición mediana\n",
    "print(\"El valor de la mediana en el Caso 2 es: \" + str(grupo_2[mediana]))\n"
   ]
  },
  {
   "cell_type": "markdown",
   "metadata": {},
   "source": [
    "## Moda\n",
    "\n",
    "Es el valor o los valores que se repiten más veces en un conjunto de datos."
   ]
  },
  {
   "cell_type": "markdown",
   "metadata": {},
   "source": [
    "## Cálculo de las medidas de tendencia central a través de pandas"
   ]
  },
  {
   "cell_type": "markdown",
   "metadata": {},
   "source": [
    "Pasos\n",
    "1. Importar pandas con el alias \"pd\"\n",
    "2. Leer el archivo que contiene el dataset\n",
    "3. Asignar el dataset a la variable \"df\"\n",
    "4. Identificar el nombre de la columna donde estén los valores a calcular\n",
    "5. Calcular el promedio con el comando mean()\n",
    "6. Calcular la mediana con el comando median()\n",
    "7. Calcular la moda con el comando mode()"
   ]
  },
  {
   "cell_type": "code",
   "execution_count": 2,
   "metadata": {},
   "outputs": [],
   "source": [
    "import pandas as pd"
   ]
  },
  {
   "cell_type": "code",
   "execution_count": 10,
   "metadata": {},
   "outputs": [
    {
     "data": {
      "text/html": [
       "<div>\n",
       "<style scoped>\n",
       "    .dataframe tbody tr th:only-of-type {\n",
       "        vertical-align: middle;\n",
       "    }\n",
       "\n",
       "    .dataframe tbody tr th {\n",
       "        vertical-align: top;\n",
       "    }\n",
       "\n",
       "    .dataframe thead th {\n",
       "        text-align: right;\n",
       "    }\n",
       "</style>\n",
       "<table border=\"1\" class=\"dataframe\">\n",
       "  <thead>\n",
       "    <tr style=\"text-align: right;\">\n",
       "      <th></th>\n",
       "      <th>Data Point</th>\n",
       "      <th>Value</th>\n",
       "    </tr>\n",
       "  </thead>\n",
       "  <tbody>\n",
       "    <tr>\n",
       "      <th>0</th>\n",
       "      <td>1</td>\n",
       "      <td>20</td>\n",
       "    </tr>\n",
       "    <tr>\n",
       "      <th>1</th>\n",
       "      <td>2</td>\n",
       "      <td>200</td>\n",
       "    </tr>\n",
       "    <tr>\n",
       "      <th>2</th>\n",
       "      <td>3</td>\n",
       "      <td>20</td>\n",
       "    </tr>\n",
       "    <tr>\n",
       "      <th>3</th>\n",
       "      <td>4</td>\n",
       "      <td>140</td>\n",
       "    </tr>\n",
       "    <tr>\n",
       "      <th>4</th>\n",
       "      <td>5</td>\n",
       "      <td>40</td>\n",
       "    </tr>\n",
       "    <tr>\n",
       "      <th>5</th>\n",
       "      <td>6</td>\n",
       "      <td>20</td>\n",
       "    </tr>\n",
       "    <tr>\n",
       "      <th>6</th>\n",
       "      <td>7</td>\n",
       "      <td>50</td>\n",
       "    </tr>\n",
       "  </tbody>\n",
       "</table>\n",
       "</div>"
      ],
      "text/plain": [
       "   Data Point  Value\n",
       "0           1     20\n",
       "1           2    200\n",
       "2           3     20\n",
       "3           4    140\n",
       "4           5     40\n",
       "5           6     20\n",
       "6           7     50"
      ]
     },
     "execution_count": 10,
     "metadata": {},
     "output_type": "execute_result"
    }
   ],
   "source": [
    "pd.read_csv('/Users/ideasleon/platzi_edu/DataAcademy/Doc/data_set_1.csv')"
   ]
  },
  {
   "cell_type": "code",
   "execution_count": 9,
   "metadata": {},
   "outputs": [
    {
     "data": {
      "text/plain": [
       "0     20\n",
       "1    200\n",
       "2     20\n",
       "3    140\n",
       "4     40\n",
       "Name: Value, dtype: int64"
      ]
     },
     "execution_count": 9,
     "metadata": {},
     "output_type": "execute_result"
    }
   ],
   "source": [
    "# ordenar datos\n",
    "df = pd.read_csv('/Users/ideasleon/platzi_edu/DataAcademy/Doc/data_set_1.csv')\n",
    "df['Value'].head()"
   ]
  },
  {
   "cell_type": "markdown",
   "metadata": {},
   "source": [
    "## Pasos para calcular el promedio con pandas\n",
    "\n",
    "1. Leer el archivo que contiene el dataset\n",
    "2. Asignar el dataset a la variable \"df\"\n",
    "3. Identificar el nombre de la columna donde estén los valores a calcular\n",
    "4. Ejecutar comando -> df['nombre_columna'].mean()"
   ]
  },
  {
   "cell_type": "code",
   "execution_count": 9,
   "metadata": {},
   "outputs": [
    {
     "data": {
      "text/plain": [
       "70.0"
      ]
     },
     "execution_count": 9,
     "metadata": {},
     "output_type": "execute_result"
    }
   ],
   "source": [
    "# calcular promedio 'mean'\n",
    "df = pd.read_csv('/Users/ideasleon/platzi_edu/DataAcademy/Doc/data_set_1.csv')\n",
    "df['Value'].mean()"
   ]
  },
  {
   "cell_type": "code",
   "execution_count": 7,
   "metadata": {},
   "outputs": [
    {
     "data": {
      "text/plain": [
       "40.0"
      ]
     },
     "execution_count": 7,
     "metadata": {},
     "output_type": "execute_result"
    }
   ],
   "source": [
    "# calcular la mediana. Se observa que pandas organiza utomaticamente \n",
    "# los datos para realizar el cálculo\n",
    "df = pd.read_csv('/Users/ideasleon/platzi_edu/DataAcademy/Doc/data_set_1.csv')\n",
    "df['Value'].median()"
   ]
  },
  {
   "cell_type": "code",
   "execution_count": 6,
   "metadata": {},
   "outputs": [
    {
     "data": {
      "text/plain": [
       "0    20\n",
       "Name: Value, dtype: int64"
      ]
     },
     "execution_count": 6,
     "metadata": {},
     "output_type": "execute_result"
    }
   ],
   "source": [
    "# calcular la moda\n",
    "df = pd.read_csv('/Users/ideasleon/platzi_edu/DataAcademy/Doc/data_set_1.csv')\n",
    "df['Value'].mode()"
   ]
  },
  {
   "cell_type": "markdown",
   "metadata": {},
   "source": [
    "## Histogramas\n",
    "\n",
    "Los histogramas son útiles para presentar tendencias en un conjunto de datos porque despliegan el número de veces (la frecuencia) de eventos que se repiten en un conjunto de datos. "
   ]
  },
  {
   "cell_type": "code",
   "execution_count": 11,
   "metadata": {},
   "outputs": [
    {
     "data": {
      "text/plain": [
       "<AxesSubplot:ylabel='Frequency'>"
      ]
     },
     "execution_count": 11,
     "metadata": {},
     "output_type": "execute_result"
    },
    {
     "data": {
      "image/png": "[encoded data removed]",
      "text/plain": [
       "<Figure size 432x288 with 1 Axes>"
      ]
     },
     "metadata": {
      "needs_background": "light"
     },
     "output_type": "display_data"
    }
   ],
   "source": [
    "# sin elegir segmentaciones\n",
    "df['Value'].plot.hist()"
   ]
  },
  {
   "cell_type": "code",
   "execution_count": 21,
   "metadata": {},
   "outputs": [
    {
     "data": {
      "text/plain": [
       "<AxesSubplot:ylabel='Frequency'>"
      ]
     },
     "execution_count": 21,
     "metadata": {},
     "output_type": "execute_result"
    },
    {
     "data": {
      "image/png": "[encoded data removed]",
      "text/plain": [
       "<Figure size 432x288 with 1 Axes>"
      ]
     },
     "metadata": {
      "needs_background": "light"
     },
     "output_type": "display_data"
    }
   ],
   "source": [
    "# eligiendo segmentaciones\n",
    "df['Value'].plot.hist(bins=3)"
   ]
  },
  {
   "cell_type": "markdown",
   "metadata": {},
   "source": [
    "## Set de datos de calificaciones de estudiante"
   ]
  },
  {
   "cell_type": "code",
   "execution_count": 22,
   "metadata": {},
   "outputs": [
    {
     "data": {
      "text/html": [
       "<div>\n",
       "<style scoped>\n",
       "    .dataframe tbody tr th:only-of-type {\n",
       "        vertical-align: middle;\n",
       "    }\n",
       "\n",
       "    .dataframe tbody tr th {\n",
       "        vertical-align: top;\n",
       "    }\n",
       "\n",
       "    .dataframe thead th {\n",
       "        text-align: right;\n",
       "    }\n",
       "</style>\n",
       "<table border=\"1\" class=\"dataframe\">\n",
       "  <thead>\n",
       "    <tr style=\"text-align: right;\">\n",
       "      <th></th>\n",
       "      <th>gender</th>\n",
       "      <th>race/ethnicity</th>\n",
       "      <th>parental level of education</th>\n",
       "      <th>lunch</th>\n",
       "      <th>test preparation course</th>\n",
       "      <th>math score</th>\n",
       "      <th>reading score</th>\n",
       "      <th>writing score</th>\n",
       "    </tr>\n",
       "  </thead>\n",
       "  <tbody>\n",
       "    <tr>\n",
       "      <th>0</th>\n",
       "      <td>female</td>\n",
       "      <td>group B</td>\n",
       "      <td>bachelor's degree</td>\n",
       "      <td>standard</td>\n",
       "      <td>none</td>\n",
       "      <td>72</td>\n",
       "      <td>72</td>\n",
       "      <td>74</td>\n",
       "    </tr>\n",
       "    <tr>\n",
       "      <th>1</th>\n",
       "      <td>female</td>\n",
       "      <td>group C</td>\n",
       "      <td>some college</td>\n",
       "      <td>standard</td>\n",
       "      <td>completed</td>\n",
       "      <td>69</td>\n",
       "      <td>90</td>\n",
       "      <td>88</td>\n",
       "    </tr>\n",
       "    <tr>\n",
       "      <th>2</th>\n",
       "      <td>female</td>\n",
       "      <td>group B</td>\n",
       "      <td>master's degree</td>\n",
       "      <td>standard</td>\n",
       "      <td>none</td>\n",
       "      <td>90</td>\n",
       "      <td>95</td>\n",
       "      <td>93</td>\n",
       "    </tr>\n",
       "    <tr>\n",
       "      <th>3</th>\n",
       "      <td>male</td>\n",
       "      <td>group A</td>\n",
       "      <td>associate's degree</td>\n",
       "      <td>free/reduced</td>\n",
       "      <td>none</td>\n",
       "      <td>47</td>\n",
       "      <td>57</td>\n",
       "      <td>44</td>\n",
       "    </tr>\n",
       "    <tr>\n",
       "      <th>4</th>\n",
       "      <td>male</td>\n",
       "      <td>group C</td>\n",
       "      <td>some college</td>\n",
       "      <td>standard</td>\n",
       "      <td>none</td>\n",
       "      <td>76</td>\n",
       "      <td>78</td>\n",
       "      <td>75</td>\n",
       "    </tr>\n",
       "    <tr>\n",
       "      <th>...</th>\n",
       "      <td>...</td>\n",
       "      <td>...</td>\n",
       "      <td>...</td>\n",
       "      <td>...</td>\n",
       "      <td>...</td>\n",
       "      <td>...</td>\n",
       "      <td>...</td>\n",
       "      <td>...</td>\n",
       "    </tr>\n",
       "    <tr>\n",
       "      <th>995</th>\n",
       "      <td>female</td>\n",
       "      <td>group E</td>\n",
       "      <td>master's degree</td>\n",
       "      <td>standard</td>\n",
       "      <td>completed</td>\n",
       "      <td>88</td>\n",
       "      <td>99</td>\n",
       "      <td>95</td>\n",
       "    </tr>\n",
       "    <tr>\n",
       "      <th>996</th>\n",
       "      <td>male</td>\n",
       "      <td>group C</td>\n",
       "      <td>high school</td>\n",
       "      <td>free/reduced</td>\n",
       "      <td>none</td>\n",
       "      <td>62</td>\n",
       "      <td>55</td>\n",
       "      <td>55</td>\n",
       "    </tr>\n",
       "    <tr>\n",
       "      <th>997</th>\n",
       "      <td>female</td>\n",
       "      <td>group C</td>\n",
       "      <td>high school</td>\n",
       "      <td>free/reduced</td>\n",
       "      <td>completed</td>\n",
       "      <td>59</td>\n",
       "      <td>71</td>\n",
       "      <td>65</td>\n",
       "    </tr>\n",
       "    <tr>\n",
       "      <th>998</th>\n",
       "      <td>female</td>\n",
       "      <td>group D</td>\n",
       "      <td>some college</td>\n",
       "      <td>standard</td>\n",
       "      <td>completed</td>\n",
       "      <td>68</td>\n",
       "      <td>78</td>\n",
       "      <td>77</td>\n",
       "    </tr>\n",
       "    <tr>\n",
       "      <th>999</th>\n",
       "      <td>female</td>\n",
       "      <td>group D</td>\n",
       "      <td>some college</td>\n",
       "      <td>free/reduced</td>\n",
       "      <td>none</td>\n",
       "      <td>77</td>\n",
       "      <td>86</td>\n",
       "      <td>86</td>\n",
       "    </tr>\n",
       "  </tbody>\n",
       "</table>\n",
       "<p>1000 rows × 8 columns</p>\n",
       "</div>"
      ],
      "text/plain": [
       "     gender race/ethnicity parental level of education         lunch  \\\n",
       "0    female        group B           bachelor's degree      standard   \n",
       "1    female        group C                some college      standard   \n",
       "2    female        group B             master's degree      standard   \n",
       "3      male        group A          associate's degree  free/reduced   \n",
       "4      male        group C                some college      standard   \n",
       "..      ...            ...                         ...           ...   \n",
       "995  female        group E             master's degree      standard   \n",
       "996    male        group C                 high school  free/reduced   \n",
       "997  female        group C                 high school  free/reduced   \n",
       "998  female        group D                some college      standard   \n",
       "999  female        group D                some college  free/reduced   \n",
       "\n",
       "    test preparation course  math score  reading score  writing score  \n",
       "0                      none          72             72             74  \n",
       "1                 completed          69             90             88  \n",
       "2                      none          90             95             93  \n",
       "3                      none          47             57             44  \n",
       "4                      none          76             78             75  \n",
       "..                      ...         ...            ...            ...  \n",
       "995               completed          88             99             95  \n",
       "996                    none          62             55             55  \n",
       "997               completed          59             71             65  \n",
       "998               completed          68             78             77  \n",
       "999                    none          77             86             86  \n",
       "\n",
       "[1000 rows x 8 columns]"
      ]
     },
     "execution_count": 22,
     "metadata": {},
     "output_type": "execute_result"
    }
   ],
   "source": [
    "# calcular promedio 'mean'\n",
    "pd.read_csv('/Users/ideasleon/platzi_edu/DataAcademy/Doc/studentsperformance.csv')\n"
   ]
  },
  {
   "cell_type": "code",
   "execution_count": 80,
   "metadata": {},
   "outputs": [
    {
     "name": "stdout",
     "output_type": "stream",
     "text": [
      "El promedio es: 66.089\n",
      "El valor medio es: 66.0\n",
      "La calificación que más se repite (moda) es: 0    65\n",
      "Name: math score, dtype: int64\n"
     ]
    },
    {
     "data": {
      "text/plain": [
       "<AxesSubplot:ylabel='Frequency'>"
      ]
     },
     "execution_count": 80,
     "metadata": {},
     "output_type": "execute_result"
    },
    {
     "data": {
      "image/png": "[encoded data removed]",
      "text/plain": [
       "<Figure size 432x288 with 1 Axes>"
      ]
     },
     "metadata": {
      "needs_background": "light"
     },
     "output_type": "display_data"
    }
   ],
   "source": [
    "# calcular promedio 'mean'\n",
    "df = pd.read_csv('/Users/ideasleon/platzi_edu/DataAcademy/Doc/studentsperformance.csv')\n",
    "#df['math score'].mean()\n",
    "print(\"El promedio es: \" + str(df['math score'].mean()))\n",
    "print(\"El valor medio es: \" + str(df['math score'].median()))\n",
    "print(\"La calificación que más se repite (moda) es: \" + str(df['math score'].mode()))\n",
    "df['math score'].plot.hist(bins=10)"
   ]
  }
 ],
 "metadata": {
  "interpreter": {
   "hash": "727dab8a2a6b4db692afefb0e5f20fb4ec529ac073cd2b7eb835239ef9eceed5"
  },
  "kernelspec": {
   "display_name": "Python 3.10.0 ('venv_da': venv)",
   "language": "python",
   "name": "python3"
  },
  "language_info": {
   "codemirror_mode": {
    "name": "ipython",
    "version": 3
   },
   "file_extension": ".py",
   "mimetype": "text/x-python",
   "name": "python",
   "nbconvert_exporter": "python",
   "pygments_lexer": "ipython3",
   "version": "3.10.0"
  },
  "orig_nbformat": 4
 },
 "nbformat": 4,
 "nbformat_minor": 2
}
