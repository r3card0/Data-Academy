{
 "cells": [
  {
   "cell_type": "markdown",
   "metadata": {},
   "source": [
    "# Loops\n",
    "\n",
    "Los loops son herramientas que permiten ejecutar tareas repetitivas en pocas líneas.\n",
    "\n",
    "![aplicacion_loop](/Users/ideasleon/platzi_edu/DataAcademy/Doc/images/aplicacion_loop.png)"
   ]
  },
  {
   "cell_type": "markdown",
   "metadata": {},
   "source": [
    "## While\n",
    "\n",
    "Sintaxis\n",
    "1. palabra reservada *while*\n",
    "2. condición\n",
    "3. :\n",
    "4. tarea -> siguiente línea con indentación"
   ]
  },
  {
   "cell_type": "code",
   "execution_count": null,
   "metadata": {},
   "outputs": [],
   "source": [
    "# imprimir los 10 primeros numeros naturales\n",
    "contador = 1\n",
    "print(contador)\n",
    "while contador < 10:\n",
    "    contador = contador + 1\n",
    "    print(contador)"
   ]
  },
  {
   "cell_type": "code",
   "execution_count": null,
   "metadata": {},
   "outputs": [],
   "source": [
    "# variante del contador\n",
    "# usar contador += 1 es lo mismo que usar contador = contador + 1\n",
    "contador = 1\n",
    "print(contador)\n",
    "while contador < 10:\n",
    "    contador += 1\n",
    "    print(contador)"
   ]
  },
  {
   "cell_type": "markdown",
   "metadata": {},
   "source": [
    "En el caso de imprimir las potencias de 2 de los primeros 100 numeros naturales, ¿qué se podria hacer?\n",
    "\n",
    "![esquema-potencia](/Users/ideasleon/platzi_edu/DataAcademy/Doc/images/esquema-potencia.jpeg \"componentes de los exponentes\")\n",
    "\n",
    "La potencia de 2 es multiplicar un número dos veces por sí mismo."
   ]
  },
  {
   "cell_type": "code",
   "execution_count": 8,
   "metadata": {},
   "outputs": [
    {
     "name": "stdout",
     "output_type": "stream",
     "text": [
      "25\n"
     ]
    }
   ],
   "source": [
    "def potencia():\n",
    "    numero_base = 5\n",
    "    numero_exponente = 2\n",
    "    potencia_de_2 = numero_base ** numero_exponente\n",
    "\n",
    "    print(potencia_de_2)\n",
    "\n",
    "potencia()"
   ]
  },
  {
   "cell_type": "code",
   "execution_count": null,
   "metadata": {},
   "outputs": [],
   "source": [
    "# crear un contador\n",
    "numero_base = 0\n",
    "numero_base = numero_base + 1\n",
    "\n",
    "print(numero_base)"
   ]
  },
  {
   "cell_type": "code",
   "execution_count": null,
   "metadata": {},
   "outputs": [],
   "source": [
    "# loop \n",
    "numero_base = 0\n",
    "numero_base = numero_base + 1\n",
    "numero_max = 10\n",
    "# loop\n",
    "while numero_base < numero_max:\n",
    "    numero_base = numero_base + 1\n",
    "    print(numero_base)"
   ]
  },
  {
   "cell_type": "code",
   "execution_count": null,
   "metadata": {},
   "outputs": [],
   "source": [
    "# loop \n",
    "def potencia_numeros_100():\n",
    "    # variables\n",
    "    numero_base = 0\n",
    "    numero_base = numero_base + 1\n",
    "    numero_max = 10\n",
    "    numero_exponente = 2\n",
    "    potencia_de_2 = numero_base ** numero_exponente\n",
    "    # loop\n",
    "    while numero_base < numero_max:\n",
    "        numero_base = numero_base + 1\n",
    "        potencia_de_2 = numero_base ** numero_exponente\n",
    "        print(potencia_de_2)\n",
    "\n",
    "potencia_numeros_100()"
   ]
  },
  {
   "cell_type": "markdown",
   "metadata": {},
   "source": [
    "## for\n",
    "\n",
    "Sintaxis:\n",
    "1. Palabra reservada *for*\n",
    "2. iterador\n",
    "3. Palabra reservada *in*\n",
    "4. Iterable\n",
    "5. :\n",
    "6. tarea\n"
   ]
  },
  {
   "cell_type": "code",
   "execution_count": null,
   "metadata": {},
   "outputs": [],
   "source": [
    "# imprimir los 10 primero numeros naturales\n",
    "contador = 1\n",
    "print(contador)\n",
    "while contador < 10:\n",
    "    contador = contador + 1\n",
    "    print(contador)"
   ]
  },
  {
   "cell_type": "markdown",
   "metadata": {},
   "source": [
    "Para la variable contador, en el rango del 1 al 10, imprime contador"
   ]
  }
 ],
 "metadata": {
  "interpreter": {
   "hash": "727dab8a2a6b4db692afefb0e5f20fb4ec529ac073cd2b7eb835239ef9eceed5"
  },
  "kernelspec": {
   "display_name": "Python 3.10.0 64-bit ('venv_da': venv)",
   "language": "python",
   "name": "python3"
  },
  "language_info": {
   "codemirror_mode": {
    "name": "ipython",
    "version": 3
   },
   "file_extension": ".py",
   "mimetype": "text/x-python",
   "name": "python",
   "nbconvert_exporter": "python",
   "pygments_lexer": "ipython3",
   "version": "3.10.0"
  },
  "orig_nbformat": 4
 },
 "nbformat": 4,
 "nbformat_minor": 2
}
