{
 "cells": [
  {
   "cell_type": "markdown",
   "metadata": {},
   "source": [
    "# String Slices.\n",
    "\n",
    "Los slices o rebanadas, son la forma que tiene Python para poder manipular el texto por medio de los índices. Esto es posible porque los valores o ítems que componen una variable están numerados en índices. \n",
    "\n",
    "#### *En programación, se empieza a contar desde cero \"0\"*\n",
    "\n",
    "En Python, una secuencia puede ser indexada en una de dos maneras: extrayendo un item o extrayendo un rango de items. Esto quiere decir que un texto guardado en una variable puede ser extraido usando los índices.\n",
    "\n",
    "En la imagen se muestra la cadena de caractéres \"SUPERMAN\" y en la parte superior, se encuentran los índices que componen la cadena.\n",
    "\n",
    "![indices](/Users/ideasleon/platzi_edu/DataAcademy/Doc/images/08_image02.png)\n",
    "\n",
    "Veamos como se puede extraer un valor de está cadena por medio de los índices . En el ejemplo  esta la variable *hero* que contiene el valor *\"SUPERMAN\"* y se extraerá el valor posicionado en el primer índice que le corresponde la posición cero \"0\".\n",
    "\n",
    "Para eso, se requiere la siguiente sintaxis:\n",
    "1. Variable\n",
    "2. []\n",
    "3. Posición\n",
    "\n",
    "Tomando la imagen, se hace lo siguiente:"
   ]
  },
  {
   "cell_type": "code",
   "execution_count": null,
   "metadata": {},
   "outputs": [],
   "source": [
    "# \n",
    "def run():\n",
    "    hero = 'SUPERMAN'\n",
    "    print(hero[0])\n",
    "\n",
    "\n",
    "if __name__=='__main__':\n",
    "    run()"
   ]
  },
  {
   "cell_type": "markdown",
   "metadata": {},
   "source": [
    "## Extrayendo un rango de items\n",
    "\n",
    "Para extraer un rango de items, se usan \":\" dentro de los corchetes.\n",
    "\n",
    "Sintaxis:\n",
    "1. Variable\n",
    "2. Abrir [\n",
    "3. indice inicial\n",
    "4. :\n",
    "5. indice final\n",
    "6. Cerrar ]"
   ]
  },
  {
   "cell_type": "code",
   "execution_count": null,
   "metadata": {},
   "outputs": [],
   "source": [
    "# extraer el rango del indice 0 al 3\n",
    "def run():\n",
    "    hero = 'SUPERMAN'\n",
    "    print(hero[0:3])\n",
    "\n",
    "\n",
    "if __name__=='__main__':\n",
    "    run()"
   ]
  },
  {
   "cell_type": "markdown",
   "metadata": {},
   "source": [
    "## Extrayendo items salteando índices\n",
    "\n",
    "También se puede extraer items brincando espacios"
   ]
  },
  {
   "cell_type": "code",
   "execution_count": null,
   "metadata": {},
   "outputs": [],
   "source": [
    "# Extraer todos los items saltando 2 indices\n",
    "def run():\n",
    "    hero = 'SUPERMAN'\n",
    "    print(hero[::2])\n",
    "\n",
    "\n",
    "if __name__=='__main__':\n",
    "    run()"
   ]
  },
  {
   "cell_type": "markdown",
   "metadata": {},
   "source": [
    "Si se usa [::], indica que se extraigan todos los índices."
   ]
  },
  {
   "cell_type": "code",
   "execution_count": null,
   "metadata": {},
   "outputs": [],
   "source": [
    "# extraer todos índices \n",
    "def run():\n",
    "    hero = 'SUPERMAN'\n",
    "    print(hero[::])\n",
    "\n",
    "\n",
    "if __name__=='__main__':\n",
    "    run()"
   ]
  },
  {
   "cell_type": "code",
   "execution_count": null,
   "metadata": {},
   "outputs": [],
   "source": [
    "# extraer lo índices de forma inversa \n",
    "def run():\n",
    "    hero = 'SUPERMAN'\n",
    "    print(hero[::-1])\n",
    "\n",
    "\n",
    "if __name__=='__main__':\n",
    "    run()"
   ]
  },
  {
   "cell_type": "markdown",
   "metadata": {},
   "source": [
    "## ¿Todo esto para que sirve? \n",
    "Se puede aplicar en varios casos donde se requiera analizar datos y extraer información de interés. Por ejemplo, se puede crear un programa que evalúe si una palabra o frase es un palindromo. Un palindromo es una palabra o frase que se lee de igual manera al derecho y al revés.\n",
    "\n",
    "Por ejemplo el nombre de Ana. Si se invierte el orden, seguira leyendose anA. El uso de los slices permite hacer esta evaluación.\n",
    "\n",
    "Evaluar las siguientes palabras: ojo, radar, orejero, reconocer"
   ]
  },
  {
   "cell_type": "code",
   "execution_count": null,
   "metadata": {},
   "outputs": [],
   "source": [
    "# determinar si una frase o palabra es palindromo\n",
    "def palindromo():\n",
    "    palabra = str(input(\"Ingresa una palabra o frase: \"))\n",
    "    palabra = (palabra.replace(\" \",\"\").strip()).lower()\n",
    "    if palabra == palabra[::-1]:\n",
    "        print(\"Es palindromo\")\n",
    "    else:\n",
    "        print(\"No es palindromo\")\n",
    "\n",
    "if __name__==\"__main__\":\n",
    "    palindromo()"
   ]
  },
  {
   "cell_type": "markdown",
   "metadata": {},
   "source": [
    "## Resumen\n",
    "\n",
    "1. Las cadenas de caracterés pueden manipularse con métodos.\n",
    "2. En Python un método es una función para un tipo de dato especial. En este caso, hay métodos para el tipo de dato \"**strings****\".\n",
    "3. El método **upper( )** convierte el texto en mayúsculas\n",
    "4. El método **lower( )** convierte el texto en minúsculas\n",
    "5. El método **capitalize( )** convierte la primera letra en mayúscula\n",
    "6. El método **strip( )** elimina espacios basura al inicio y al final de un texto\n",
    "7. El método **replace( )** reemplaza un elemento por otro\n",
    "8. Para usar los métodos, la sintaxis correcta es: **variable = variable.metodo( )**\n",
    "9. Los paréntesis ( ), permiten recibir valores como argumentos. \n",
    "9. Los **slices** permiten cortar en partes (rebanas) los textos.\n",
    "10. Se pueden extraer items en base a la posición de su índice.\n",
    "11. En programación se empieza a contar desde cero \"0\"."
   ]
  },
  {
   "cell_type": "markdown",
   "metadata": {},
   "source": [
    "## Referencias\n",
    "\n",
    "[Python Basic course. Strings](https://platzi.com/clases/1937-python/29637-trabajando-con-texto-cadenas-de-caracteres/)\n",
    "\n",
    "[Python Basic course. Slices](https://platzi.com/clases/1937-python/29638-trabajando-con-texto-slices/)\n",
    "\n",
    "[Python.org/ Strings](https://www.python.org/dev/peps/pep-0498/#leading-and-trailing-whitespace-in-expressions-is-ignored)\n",
    "\n",
    "[Python.org/ Slices](https://www.python.org/dev/peps/pep-0204/#slice-indices)"
   ]
  }
 ],
 "metadata": {
  "interpreter": {
   "hash": "727dab8a2a6b4db692afefb0e5f20fb4ec529ac073cd2b7eb835239ef9eceed5"
  },
  "kernelspec": {
   "display_name": "Python 3.10.0 64-bit ('venv_da': venv)",
   "language": "python",
   "name": "python3"
  },
  "language_info": {
   "codemirror_mode": {
    "name": "ipython",
    "version": 3
   },
   "file_extension": ".py",
   "mimetype": "text/x-python",
   "name": "python",
   "nbconvert_exporter": "python",
   "pygments_lexer": "ipython3",
   "version": "3.10.0"
  },
  "orig_nbformat": 4
 },
 "nbformat": 4,
 "nbformat_minor": 2
}
