{
 "cells": [
  {
   "cell_type": "markdown",
   "metadata": {},
   "source": [
    "# Métodos para manejar **Strings**"
   ]
  },
  {
   "cell_type": "markdown",
   "metadata": {},
   "source": [
    "Para manejar los tipos de datos Strings o textos hay varios métodos que ayudan a su manipulación.\n",
    "\n",
    "En Python un método es una función para un tipo de dato especial. En este caso, hay métodos para el tipo de dato \"**strings**\".\n",
    "\n",
    "Para usar los métodos, se sigue la siguiente sintaxis:\n",
    "1. variable que contiene el string\n",
    "2. .\n",
    "3. método\n",
    "4. ()"
   ]
  },
  {
   "cell_type": "code",
   "execution_count": null,
   "metadata": {},
   "outputs": [],
   "source": [
    "variable = \"méxico\"\n",
    "print(variable.capitalize())"
   ]
  },
  {
   "cell_type": "markdown",
   "metadata": {},
   "source": [
    "Lista de métodos para variables que contienen strings:"
   ]
  },
  {
   "cell_type": "markdown",
   "metadata": {},
   "source": [
    "![08_image01](/Users/ideasleon/platzi_edu/DataAcademy/Doc/images/08_image01.png)"
   ]
  },
  {
   "cell_type": "code",
   "execution_count": null,
   "metadata": {},
   "outputs": [],
   "source": [
    "# convertir texto a mayúsculas\n",
    "def run():\n",
    "    materia = 'geología de méxico'\n",
    "    print(materia.upper())\n",
    "\n",
    "\n",
    "if __name__ == '__main__':\n",
    "    run()"
   ]
  },
  {
   "cell_type": "code",
   "execution_count": null,
   "metadata": {},
   "outputs": [],
   "source": [
    "# convertir texto a minúsculas\n",
    "def run():\n",
    "    frase = '¡EN BOCA CERRADA, NO ENTRAN MOSCAS!'\n",
    "    print(frase.lower())\n",
    "\n",
    "\n",
    "if __name__=='__main__':\n",
    "    run()"
   ]
  },
  {
   "cell_type": "code",
   "execution_count": null,
   "metadata": {},
   "outputs": [],
   "source": [
    "# convertir la primera letra en mayúscula\n",
    "def run():\n",
    "    nombre = 'federico'\n",
    "    print(nombre.capitalize())\n",
    "\n",
    "\n",
    "if __name__=='__main__':\n",
    "    run()"
   ]
  },
  {
   "cell_type": "code",
   "execution_count": null,
   "metadata": {},
   "outputs": [],
   "source": [
    "# quitar espacios basura al inicio y al final del texto\n",
    "def run():\n",
    "    frase_2 = '  En el mar, la vida es mas sabrosa  '\n",
    "    print(frase_2.strip())\n",
    "\n",
    "\n",
    "if __name__=='__main__':\n",
    "    run()"
   ]
  },
  {
   "cell_type": "code",
   "execution_count": null,
   "metadata": {},
   "outputs": [],
   "source": [
    "# reemplazar el elemento '3' por el elemento 'e' de la variable gto\n",
    "def run():\n",
    "    gto = 'El call3jon d3l b3so'\n",
    "    print(gto.replace('3','e'))\n",
    "\n",
    "\n",
    "if __name__ == '__main__':\n",
    "    run()"
   ]
  },
  {
   "cell_type": "markdown",
   "metadata": {},
   "source": [
    "## Resumen\n",
    "\n",
    "1. Las cadenas de caracterés pueden manipularse con métodos.\n",
    "2. En Python un método es una función para un tipo de dato especial. En este caso, hay métodos para el tipo de dato \"**strings****\".\n",
    "3. El método **upper( )** convierte el texto en mayúsculas\n",
    "4. El método **lower( )** convierte el texto en minúsculas\n",
    "5. El método **capitalize( )** convierte la primera letra en mayúscula\n",
    "6. El método **strip( )** elimina espacios basura al inicio y al final de un texto\n",
    "7. El método **replace( )** reemplaza un elemento por otro\n",
    "8. Para usar los métodos, la sintaxis correcta es: **variable = variable.metodo( )**\n",
    "9. Los paréntesis ( ), permiten recibir valores como argumentos."
   ]
  },
  {
   "cell_type": "markdown",
   "metadata": {},
   "source": [
    "## Referencias\n",
    "\n",
    "[Python Basic course. Strings](https://platzi.com/clases/1937-python/29637-trabajando-con-texto-cadenas-de-caracteres/)\n",
    "\n",
    "[Python Basic course. Slices](https://platzi.com/clases/1937-python/29638-trabajando-con-texto-slices/)\n",
    "\n",
    "[Python.org/ Strings](https://www.python.org/dev/peps/pep-0498/#leading-and-trailing-whitespace-in-expressions-is-ignored)\n",
    "\n",
    "[Python.org/ Slices](https://www.python.org/dev/peps/pep-0204/#slice-indices)"
   ]
  }
 ],
 "metadata": {
  "interpreter": {
   "hash": "4ee08b0487832ff03f0fdf4b6eade6848fbbb6f348c487e64472b02f35273942"
  },
  "kernelspec": {
   "display_name": "Python 3.10.0 64-bit ('py3_10': conda)",
   "language": "python",
   "name": "python3"
  },
  "language_info": {
   "codemirror_mode": {
    "name": "ipython",
    "version": 3
   },
   "file_extension": ".py",
   "mimetype": "text/x-python",
   "name": "python",
   "nbconvert_exporter": "python",
   "pygments_lexer": "ipython3",
   "version": "3.10.0"
  },
  "orig_nbformat": 4
 },
 "nbformat": 4,
 "nbformat_minor": 2
}
