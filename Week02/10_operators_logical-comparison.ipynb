{
 "cells": [
  {
   "cell_type": "markdown",
   "metadata": {},
   "source": [
    "## Operadores de Comparación\n",
    "\n",
    "Los Operadores de Comparación son usado para comparar dos valores. En Python hay 6 operadores de comparación. Retornan el valor True si los valores satisfacen la condición del primer operando.\n"
   ]
  },
  {
   "cell_type": "markdown",
   "metadata": {},
   "source": [
    "| persona | edad |\n",
    "|---------|------|\n",
    "| John    |  50  |\n",
    "| Isabel  |  43  |\n",
    "| Amy     |  40  |\n",
    "| Mario   |  23  |\n"
   ]
  },
  {
   "cell_type": "code",
   "execution_count": null,
   "metadata": {},
   "outputs": [],
   "source": [
    "john = 50\n",
    "isabel = 43\n",
    "amy = 40\n",
    "mario = 23\n",
    "\n",
    "# igual - no igual\n",
    "print(mario == isabel)\n",
    "print(mario != john)\n",
    "# mayor-menor que\n",
    "print(amy < isabel)\n",
    "print(john > amy)\n",
    "# igual o mayor-menor que\n",
    "print(john <= isabel)\n",
    "print(isabel >= mario)"
   ]
  },
  {
   "cell_type": "markdown",
   "metadata": {},
   "source": [
    "## Operadores Lógicos"
   ]
  },
  {
   "cell_type": "markdown",
   "metadata": {},
   "source": [
    "Los operadores lógicos son usados para combinar condicionales.\n",
    "\n",
    "Los operadores son: **and**, **or** y **not**"
   ]
  },
  {
   "cell_type": "code",
   "execution_count": null,
   "metadata": {},
   "outputs": [],
   "source": [
    "# operadores lógicos validando afirmaciones\n",
    "plants_need_water = True\n",
    "plants_have_colors = True\n",
    "plants_are_meat = False\n",
    "plants_can_talk = False\n",
    "\n",
    "print(plants_need_water and plants_have_colors)\n",
    "print(plants_have_colors and plants_are_meat)\n",
    "print(plants_can_talk or plants_need_water)\n",
    "print(plants_are_meat or plants_can_talk)\n",
    "print(not plants_are_meat)\n",
    "print(not plants_need_water)\n"
   ]
  },
  {
   "cell_type": "markdown",
   "metadata": {},
   "source": [
    "## Resumen\n",
    "\n",
    "1. Los operadores de comparación son: <,>, == y !=\n",
    "2. Los operadores lógicos son: and, or, y not"
   ]
  },
  {
   "cell_type": "markdown",
   "metadata": {},
   "source": [
    "## Referencias\n",
    "\n",
    "[Curso Básico de Python](https://platzi.com/clases/python/)\n",
    "\n",
    "[Python.org](https://docs.python.org/3/tutorial/introduction.html#using-python-as-a-calculator)\n",
    "\n",
    "[Basic Operators](https://www.tutorialspoint.com/python/python_basic_operators.htm)"
   ]
  }
 ],
 "metadata": {
  "interpreter": {
   "hash": "4ee08b0487832ff03f0fdf4b6eade6848fbbb6f348c487e64472b02f35273942"
  },
  "kernelspec": {
   "display_name": "Python 3 (ipykernel)",
   "language": "python",
   "name": "python3"
  },
  "language_info": {
   "codemirror_mode": {
    "name": "ipython",
    "version": 3
   },
   "file_extension": ".py",
   "mimetype": "text/x-python",
   "name": "python",
   "nbconvert_exporter": "python",
   "pygments_lexer": "ipython3",
   "version": "3.10.0"
  }
 },
 "nbformat": 4,
 "nbformat_minor": 2
}
