{
 "cells": [
  {
   "cell_type": "markdown",
   "metadata": {},
   "source": [
    "## Operadores de Comparación\n",
    "\n",
    "Los Operadores de Comparación son usado para comparar dos valores. En Python hay 6 operadores de comparación. Retornan el valor True si los valores satisfacen la condición del primer operando.\n"
   ]
  },
  {
   "cell_type": "markdown",
   "metadata": {},
   "source": [
    "Ejercicio # 2. Observa las siguientes comparaciones. La comparación dá como resultado \"**True**\". Hay expresiones \"**comentadas**\". Una expresión comentada es aquella que tiene el símbolo \"**#**\". Estas expresiones Python no las toma encuenta y no las ejecuta. Borra el símbolo **#** de la expresión y ejecutala para obervar el resultado."
   ]
  },
  {
   "cell_type": "code",
   "execution_count": null,
   "metadata": {},
   "outputs": [],
   "source": [
    "print(1000 == 1000)     # igual\n",
    "#print(0 == 3)       \n",
    "print(2 != 3)           # NO igual\n",
    "#print(5 != 5)       \n",
    "print( 4 < 6)           # 4 es menor que 6\n",
    "#print( 4 > 6)       \n",
    "print( 30 > 6)          # 30 es mayor que 6\n",
    "#print( 30 < 6)       \n",
    "print( 50 >= 10)        # 50 es mayor o igual que 6\n",
    "#print( 50 <= 10)  \n",
    "print(13 <= 45)         # 13 es menor o igual a 45   \n",
    "#print(13 >= 45)"
   ]
  },
  {
   "cell_type": "markdown",
   "metadata": {},
   "source": [
    "## Operadores Lógicos"
   ]
  },
  {
   "cell_type": "markdown",
   "metadata": {},
   "source": [
    "Los operadores lógicos son usados para combinar condicionales.\n",
    "\n",
    "Los operadores son: **and**, **or** y **not**"
   ]
  },
  {
   "cell_type": "code",
   "execution_count": null,
   "metadata": {},
   "outputs": [],
   "source": [
    "x = 5\n",
    "print(x > 3 and x < 10)\n",
    "print(x > 3 or x < 2 )\n",
    "print(not(x > 3 and x < 10))"
   ]
  },
  {
   "cell_type": "markdown",
   "metadata": {},
   "source": [
    "## Resumen\n",
    "\n",
    "1. "
   ]
  },
  {
   "cell_type": "markdown",
   "metadata": {},
   "source": [
    "## Referencias\n",
    "\n",
    "[Curso Básico de Python](https://platzi.com/clases/python/)\n",
    "\n",
    "[Python.org](https://docs.python.org/3/tutorial/introduction.html#using-python-as-a-calculator)\n",
    "\n",
    "[Basic Operators](https://www.tutorialspoint.com/python/python_basic_operators.htm)"
   ]
  }
 ],
 "metadata": {
  "interpreter": {
   "hash": "4ee08b0487832ff03f0fdf4b6eade6848fbbb6f348c487e64472b02f35273942"
  },
  "kernelspec": {
   "display_name": "Python 3 (ipykernel)",
   "language": "python",
   "name": "python3"
  },
  "language_info": {
   "codemirror_mode": {
    "name": "ipython",
    "version": 3
   },
   "file_extension": ".py",
   "mimetype": "text/x-python",
   "name": "python",
   "nbconvert_exporter": "python",
   "pygments_lexer": "ipython3",
   "version": "3.10.0"
  }
 },
 "nbformat": 4,
 "nbformat_minor": 2
}
