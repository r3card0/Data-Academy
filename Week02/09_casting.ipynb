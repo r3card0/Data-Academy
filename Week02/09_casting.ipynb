{
 "cells": [
  {
   "cell_type": "markdown",
   "metadata": {},
   "source": [
    "# Casting o conversión de datos\n",
    "\n",
    "La conversión de datos es indicar por medio de funciones built-in que tipo de dato estamos usando o que tipo de dato queremos usar.\n",
    "\n",
    "Funciones:\n",
    "- *str()*: Convierte a string\n",
    "- *int()*: Convierte a entero\n",
    "- *float()*: Convierte a decimal\n",
    "- *bool()*: Convierte a booleano\n",
    "\n",
    "Por ejemplo, si se requiere que un numérico sea tratado como string, lo que hay que hacer es usar el comando *str()*"
   ]
  },
  {
   "cell_type": "code",
   "execution_count": 8,
   "metadata": {},
   "outputs": [
    {
     "name": "stdout",
     "output_type": "stream",
     "text": [
      "El numérico 5 ahora es texto\n"
     ]
    }
   ],
   "source": [
    "# casting de integer a string\n",
    "valor = 5\n",
    "valor = str(valor)\n",
    "print(\"El numérico \" + valor + \" ahora es texto\")"
   ]
  },
  {
   "cell_type": "code",
   "execution_count": null,
   "metadata": {},
   "outputs": [],
   "source": [
    "# en caso de no relizar el casting\n",
    "valor1 = 7\n",
    "\n",
    "print(\"El numérico\" + valor1 + \"ahora es texto\")"
   ]
  },
  {
   "cell_type": "markdown",
   "metadata": {},
   "source": [
    "## Casting\n",
    "\n",
    "Para realizr el casting, solo hay que poner la variable como parámetro en los paréntesis de cada función:\n",
    "- str -> **str(variable)**\n",
    "- int -> **int(variable)**\n",
    "- float -> **float(variable)**\n",
    "- bool -> **bool(variable)**"
   ]
  },
  {
   "cell_type": "markdown",
   "metadata": {},
   "source": [
    "### Función bool( )\n",
    "\n",
    "La función bool( ) es una función usada para conversión de datos. Esta función convierte los demás tipos de datos en booleanos (boolean type)\n",
    "\n",
    "True si el valor no está vacío o else False. Los valores de otros tipos de datos son True si no están vacíos.\n",
    "\n",
    "Por ejemplo, la función **bool** nos indica **True** si el tipo de dato número, es en realidad un número. Ver el siguiente ejemplo:"
   ]
  },
  {
   "cell_type": "code",
   "execution_count": null,
   "metadata": {},
   "outputs": [],
   "source": [
    "bool(4)"
   ]
  },
  {
   "cell_type": "markdown",
   "metadata": {},
   "source": [
    "En la sentencia, se usa la función bool, seguida de valores dentro del paréntesis. En este caso se almacena el valor del número 4. Al ejecutar la sentencia, Python arroja el valor de True, indicando que el tipo de dato numero, si es numero. Así se convierten los datos en booleanos."
   ]
  },
  {
   "cell_type": "code",
   "execution_count": null,
   "metadata": {},
   "outputs": [],
   "source": [
    "bool(00j)"
   ]
  },
  {
   "cell_type": "markdown",
   "metadata": {},
   "source": [
    "En el segundo caso, la función bool evalúa los valores “000j”. En este caso, es una combinación de números y texto (string), por lo que Python responde que el valor es False, ya que no es número ni texto en su totalidad."
   ]
  },
  {
   "cell_type": "code",
   "execution_count": null,
   "metadata": {},
   "outputs": [],
   "source": [
    "bool('Texto')"
   ]
  },
  {
   "cell_type": "markdown",
   "metadata": {},
   "source": [
    "En el caso del texto, para que bool retorne True, se debe colocar el texto entre comillas, en caso contrario, marcará un error de sintaxis.\n",
    "\n",
    "En el siguiente ejemplo, la función **bool** evalúa los valores None, True y False."
   ]
  },
  {
   "cell_type": "code",
   "execution_count": null,
   "metadata": {},
   "outputs": [],
   "source": [
    "print(bool(None))\n",
    "print(bool(True))\n",
    "print(bool(False))"
   ]
  },
  {
   "cell_type": "markdown",
   "metadata": {},
   "source": [
    "## Resumen\n",
    "\n",
    "1. Para convertir los datos numéricos se usan las funciones **int()** y **float()**\n",
    "2. Para convertir los datos numéricos a datos de texto se usa la función **str()**\n",
    "3. Para convertir los datos numéricos y de texto a booleanos se usa la funcioón **bool()**"
   ]
  }
 ],
 "metadata": {
  "interpreter": {
   "hash": "727dab8a2a6b4db692afefb0e5f20fb4ec529ac073cd2b7eb835239ef9eceed5"
  },
  "kernelspec": {
   "display_name": "Python 3.10.0 64-bit ('venv_da': venv)",
   "language": "python",
   "name": "python3"
  },
  "language_info": {
   "codemirror_mode": {
    "name": "ipython",
    "version": 3
   },
   "file_extension": ".py",
   "mimetype": "text/x-python",
   "name": "python",
   "nbconvert_exporter": "python",
   "pygments_lexer": "ipython3",
   "version": "3.10.0"
  },
  "orig_nbformat": 4
 },
 "nbformat": 4,
 "nbformat_minor": 2
}
