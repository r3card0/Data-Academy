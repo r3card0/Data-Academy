{
 "cells": [
  {
   "cell_type": "markdown",
   "metadata": {},
   "source": [
    "# Tipos de Datos"
   ]
  },
  {
   "cell_type": "markdown",
   "metadata": {},
   "source": [
    "En Python hay varios tipos de datos. Los tipos de datos primitivos son:\n",
    "1. String: texto y cadena de carateres\n",
    "2. Numéricos: enteros y decimales\n",
    "3. Booleanos"
   ]
  },
  {
   "cell_type": "markdown",
   "metadata": {
    "cell_id": "00000-8cf0da64-beee-47a0-ba2f-d8dddc3949a7",
    "deepnote_cell_type": "markdown",
    "id": "wR-t0VVLRdXj"
   },
   "source": [
    "## Númericos\n",
    "\n",
    "### Enteros\n",
    "1. Son los números enteros y se consideran los positivos(1) y negativos(-1). \n",
    "2. No tienen decimales. \n",
    "3. En Python son identificados como *integers*.\n",
    "4. Los números enteros tienen precisión ilimitada.\n",
    "5. Usa la función **int( )**  \n",
    "\n",
    "### De punto flotantes\n",
    "1. en palabras sencillas son los números que tienen decimales\n",
    "2. En Python son identificados como floating.\n",
    "3. Usa la función **float( )**"
   ]
  },
  {
   "cell_type": "code",
   "execution_count": null,
   "metadata": {},
   "outputs": [],
   "source": [
    "# definir variables con valores numéricos\n",
    "x = 5       # entero\n",
    "y = 5.5     # decimal o flotante\n",
    "suma = x + y\n",
    "print(suma)"
   ]
  },
  {
   "cell_type": "markdown",
   "metadata": {},
   "source": [
    "## String"
   ]
  },
  {
   "cell_type": "markdown",
   "metadata": {},
   "source": [
    "### Definir strings\n",
    "\n",
    "Para definir los strings en las variables se usan las comillas simples '' y las commillas dobles \"\"\n",
    "\n",
    "Una buena practica es elegir o solo comillas simples o solo comillas dobles al escribir un programa.\n",
    "\n",
    "- variable = “texto” ó\n",
    "- variable = ‘texto’\n",
    "\n",
    "Ambas opciones son correctas. Y se recomienda usar o una u otra en un programa. Esto es considerado *buena práctica*"
   ]
  },
  {
   "cell_type": "markdown",
   "metadata": {},
   "source": [
    "### Cadena de Caracteres\n",
    "Se llama cadena de caracteres al conjunto de letras que conforman un texto. Un texto puede ser una letra, una palabra, una frase, un poema, una combinación de números con letras, etc.."
   ]
  },
  {
   "cell_type": "code",
   "execution_count": null,
   "metadata": {},
   "outputs": [],
   "source": [
    "# definir strings en variables\n",
    "fruta = 'manzana'\n",
    "\n",
    "print(fruta)"
   ]
  },
  {
   "cell_type": "markdown",
   "metadata": {},
   "source": [
    "## Booleanos"
   ]
  },
  {
   "cell_type": "markdown",
   "metadata": {},
   "source": [
    "En programación, comúnmente se requiere saber si una expresión es cierta o verdadera. True or False.\n",
    "\n",
    "Una expresión puede ser evaluada de esta manera y obtener una de estas respuestas. True or False.\n",
    "\n",
    "Cuando se compara dos valores, la expresión es evaluada y Python retorna las respuestas booleanas. True or False\n",
    "\n",
    "Se puede crear variables con los valores True y False. var_1 = True ; var_2 = False\n",
    "\n",
    "Case-Sensitive. La forma correcta de escribirlo es que la primera letra sea en mayúscula y las demás en minúsculas.\n",
    "\n",
    "No encerrar las palabras True or False entre comillas.\n",
    "\n",
    "Los valores True y False no son funciones built-in o constantes. No deben ser usados como nombres de variables ni nombres de funciones. Python marcara un error de sintaxis, si se usan de esa manera.\n"
   ]
  },
  {
   "cell_type": "markdown",
   "metadata": {},
   "source": [
    "### Función bool( )\n",
    "\n",
    "La función bool( ) es una función usada para conversión de datos. Esta función convierte los demás tipos de datos en booleanos (boolean type)\n",
    "\n",
    "True si el valor no está vacío o else False. Los valores de otros tipos de datos son True si no están vacíos.\n",
    "\n",
    "Por ejemplo, la función **bool** nos indica **True** si el tipo de dato número, es en realidad un número. Ver el siguiente ejemplo:\n"
   ]
  },
  {
   "cell_type": "code",
   "execution_count": null,
   "metadata": {},
   "outputs": [],
   "source": [
    "bool(4)"
   ]
  },
  {
   "cell_type": "markdown",
   "metadata": {},
   "source": [
    "### Operadores que dan valores booleanos: in, not in"
   ]
  },
  {
   "cell_type": "markdown",
   "metadata": {},
   "source": [
    "El operador **in** retorna **True**, si el elemento está en la secuencia, si no (else) retorna **False**. El operador **not in**, hace lo opuesto."
   ]
  },
  {
   "cell_type": "code",
   "execution_count": null,
   "metadata": {},
   "outputs": [],
   "source": [
    "print('a' in 'Geologia')    # determinar si el elemento \"a\", está dentro del string 'Geología'\n",
    "print('o' in 'América')     # determinar si el elemento \"o\", está dentro del string 'América'\n",
    "print('Z' not in 'Geologia')    # determinar si el elemento \"a\", NO está dentro del string 'Geología'\n",
    "print('A' not in 'América')     # determinar si el elemento \"o\", NO está dentro del string 'América'"
   ]
  },
  {
   "cell_type": "markdown",
   "metadata": {},
   "source": [
    "### Python es un lenguaje orientado a objetos, por lo tanto en Python, *todo es un objeto*. Los tipos de datos se manejan como objetos en Python. 😲"
   ]
  },
  {
   "cell_type": "markdown",
   "metadata": {},
   "source": [
    "## Resumen\n",
    "\n",
    "1. Python maneja varios tipos de datos.\n",
    "2. Los tipos de datos vistos fueron: numéricos, de texto y booleanos\n",
    "3. Los datos numéricos se dividien en: enteros, punto flotante y complejos\n",
    "5. Un cadena de caracteres es un conjunto de letras que conforman un texto. Un texto puede ser una letra, una palabra, una frase, un poema, una combinación de números con letras, etc..\n",
    "6. Los tipos de datos booleanos son aquellos que retornan los valores: **True** y **False**"
   ]
  },
  {
   "cell_type": "markdown",
   "metadata": {
    "cell_id": "00041-6f28997c-a427-417d-b927-26dc5de7839b",
    "deepnote_cell_type": "markdown",
    "id": "zinyvIsrLZun"
   },
   "source": [
    "## Referencias\n",
    "The Python Standard Library: [Built-in Types](https://docs.python.org/3/library/stdtypes.html#numeric-types-int-float-complex)"
   ]
  },
  {
   "cell_type": "markdown",
   "metadata": {
    "created_in_deepnote_cell": true,
    "deepnote_cell_type": "markdown",
    "tags": []
   },
   "source": [
    "<a style='text-decoration:none;line-height:16px;display:flex;color:#5B5B62;padding:10px;justify-content:end;' href='https://deepnote.com?utm_source=created-in-deepnote-cell&projectId=2e66839c-8a8c-4754-889a-73c17f6336ba' target=\"_blank\">\n",
    "<img alt='Created in deepnote.com' style='display:inline;max-height:16px;margin:0px;margin-right:7.5px;' src='data:image/svg+xml;base64,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' > </img>\n",
    "Created in <span style='font-weight:600;margin-left:4px;'>Deepnote</span></a>"
   ]
  }
 ],
 "metadata": {
  "colab": {
   "authorship_tag": "ABX9TyO1TEiS7cUVE4+ZOj7yKp8E",
   "collapsed_sections": [],
   "name": "Conversión_de_datos.ipynb",
   "provenance": []
  },
  "deepnote": {},
  "deepnote_execution_queue": [],
  "deepnote_notebook_id": "846f0255-e6fc-4a71-97b3-d5412c737f2e",
  "kernelspec": {
   "display_name": "Python 3",
   "name": "python3"
  },
  "language_info": {
   "codemirror_mode": {
    "name": "ipython",
    "version": 3
   },
   "file_extension": ".py",
   "mimetype": "text/x-python",
   "name": "python",
   "nbconvert_exporter": "python",
   "pygments_lexer": "ipython3",
   "version": "3.10.0"
  }
 },
 "nbformat": 4,
 "nbformat_minor": 0
}
